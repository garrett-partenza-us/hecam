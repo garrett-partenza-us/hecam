{
 "cells": [
  {
   "cell_type": "code",
   "execution_count": 28,
   "id": "48be9f99-d163-4c37-b693-943979d30ac0",
   "metadata": {},
   "outputs": [
    {
     "name": "stdout",
     "output_type": "stream",
     "text": [
      "\n",
      "image 1/1 /Users/garrett.partenza/projects/hecam/faces.jpg: 448x640 4 faces, 35.2ms\n",
      "Speed: 1.7ms preprocess, 35.2ms inference, 0.4ms postprocess per image at shape (1, 3, 448, 640)\n"
     ]
    }
   ],
   "source": [
    "from ultralytics import YOLO\n",
    "\n",
    "# Load a model\n",
    "model = YOLO(\"yolov11n-face.pt\")\n",
    "\n",
    "# Perform object detection on an image\n",
    "results = model(\"faces.jpg\")\n",
    "results[0].show()"
   ]
  },
  {
   "cell_type": "code",
   "execution_count": 29,
   "id": "8008e6e5-523f-4095-b6ff-0a16094a3848",
   "metadata": {},
   "outputs": [],
   "source": [
    "from PIL import Image\n",
    "import numpy as np\n",
    "\n",
    "\n",
    "def crop_image_by_box(image, box):\n",
    "\n",
    "    if isinstance(image, Image.Image):\n",
    "        image = np.array(image)\n",
    "    \n",
    "    x, y, w, h = box\n",
    "\n",
    "    # Calculate the top-left and bottom-right corners based on xywh\n",
    "    xmin = int(x - w / 2)\n",
    "    ymin = int(y - h / 2)\n",
    "    xmax = int(x + w / 2)\n",
    "    ymax = int(y + h / 2)\n",
    "    \n",
    "    # Crop the image using numpy array slicing\n",
    "    cropped_image = image[ymin:ymax, xmin:xmax]\n",
    "    \n",
    "    # Convert cropped image back to PIL format for display (optional)\n",
    "    cropped_image_pil = Image.fromarray(cropped_image)\n",
    "\n",
    "    return cropped_image_pil\n",
    "\n",
    "\n",
    "image = Image.open('faces.jpg')  # Replace with your image path\n",
    "\n",
    "box = results[0].boxes.xywh[1]\n",
    "\n",
    "# Call the function to crop the image\n",
    "cropped_image = crop_image_by_box(image, box)\n",
    "\n",
    "# Display the cropped image\n",
    "cropped_image.show()\n"
   ]
  },
  {
   "cell_type": "code",
   "execution_count": null,
   "id": "cb708f5d-7880-4927-aee9-ba08774e8920",
   "metadata": {},
   "outputs": [],
   "source": []
  }
 ],
 "metadata": {
  "kernelspec": {
   "display_name": "Python 3 (ipykernel)",
   "language": "python",
   "name": "python3"
  },
  "language_info": {
   "codemirror_mode": {
    "name": "ipython",
    "version": 3
   },
   "file_extension": ".py",
   "mimetype": "text/x-python",
   "name": "python",
   "nbconvert_exporter": "python",
   "pygments_lexer": "ipython3",
   "version": "3.10.14"
  }
 },
 "nbformat": 4,
 "nbformat_minor": 5
}
